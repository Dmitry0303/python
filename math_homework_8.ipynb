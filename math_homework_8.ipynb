{
 "cells": [
  {
   "cell_type": "markdown",
   "metadata": {},
   "source": [
    "# Домашнее задание 7"
   ]
  },
  {
   "cell_type": "markdown",
   "metadata": {},
   "source": [
    "# Тема “Система линейных алгебраичсеких уравнений”"
   ]
  },
  {
   "cell_type": "markdown",
   "metadata": {},
   "source": [
    "### Решите линейную систему"
   ]
  },
  {
   "cell_type": "code",
   "execution_count": 2,
   "metadata": {},
   "outputs": [],
   "source": [
    "import numpy as np"
   ]
  },
  {
   "cell_type": "code",
   "execution_count": 4,
   "metadata": {},
   "outputs": [],
   "source": [
    "A = np.array([[1, 2, 3],\n",
    "              [4, 0, 6],\n",
    "              [7, 8, 9]])"
   ]
  },
  {
   "cell_type": "code",
   "execution_count": 5,
   "metadata": {},
   "outputs": [],
   "source": [
    "b = np.array([12, 2, 1])"
   ]
  },
  {
   "cell_type": "code",
   "execution_count": 9,
   "metadata": {},
   "outputs": [
    {
     "data": {
      "text/plain": [
       "3"
      ]
     },
     "execution_count": 9,
     "metadata": {},
     "output_type": "execute_result"
    }
   ],
   "source": [
    "np.linalg.matrix_rank(A)"
   ]
  },
  {
   "cell_type": "code",
   "execution_count": 11,
   "metadata": {},
   "outputs": [],
   "source": [
    "B = np.array([[1, 2, 3, 12],\n",
    "              [4, 0, 6, 2],\n",
    "              [7, 8, 9, 1]])"
   ]
  },
  {
   "cell_type": "code",
   "execution_count": 12,
   "metadata": {
    "scrolled": true
   },
   "outputs": [
    {
     "data": {
      "text/plain": [
       "3"
      ]
     },
     "execution_count": 12,
     "metadata": {},
     "output_type": "execute_result"
    }
   ],
   "source": [
    "np.linalg.matrix_rank(B)"
   ]
  },
  {
   "cell_type": "code",
   "execution_count": null,
   "metadata": {},
   "outputs": [],
   "source": [
    "# Ранг исходной матрицы равен рангу расширенной матрицы, поэтому решение есть"
   ]
  },
  {
   "cell_type": "code",
   "execution_count": 6,
   "metadata": {},
   "outputs": [
    {
     "data": {
      "text/plain": [
       "array([-9.2       ,  0.9       ,  6.46666667])"
      ]
     },
     "execution_count": 6,
     "metadata": {},
     "output_type": "execute_result"
    }
   ],
   "source": [
    "np.linalg.solve(A, b)"
   ]
  },
  {
   "cell_type": "markdown",
   "metadata": {},
   "source": [
    "### Найдите псевдорешение"
   ]
  },
  {
   "cell_type": "code",
   "execution_count": 14,
   "metadata": {},
   "outputs": [],
   "source": [
    "A = np.array([[1, 2, -1],\n",
    "              [3, -4, 0],\n",
    "              [8, -5, 2],\n",
    "              [2, 0, -5],\n",
    "              [11, 4, -7]])"
   ]
  },
  {
   "cell_type": "code",
   "execution_count": 15,
   "metadata": {},
   "outputs": [],
   "source": [
    "b = np.array([1, 7, 12, 7, 15])"
   ]
  },
  {
   "cell_type": "code",
   "execution_count": 16,
   "metadata": {},
   "outputs": [
    {
     "data": {
      "text/plain": [
       "3"
      ]
     },
     "execution_count": 16,
     "metadata": {},
     "output_type": "execute_result"
    }
   ],
   "source": [
    "np.linalg.matrix_rank(A)"
   ]
  },
  {
   "cell_type": "code",
   "execution_count": 17,
   "metadata": {},
   "outputs": [],
   "source": [
    "B = np.array([[1, 2, -1, 1],\n",
    "              [3, -4, 0, 7],\n",
    "              [8, -5, 2, 12],\n",
    "              [2, 0, -5, 7],\n",
    "              [11, 4, -7, 15]])"
   ]
  },
  {
   "cell_type": "code",
   "execution_count": 18,
   "metadata": {},
   "outputs": [
    {
     "data": {
      "text/plain": [
       "4"
      ]
     },
     "execution_count": 18,
     "metadata": {},
     "output_type": "execute_result"
    }
   ],
   "source": [
    "np.linalg.matrix_rank(B)"
   ]
  },
  {
   "cell_type": "code",
   "execution_count": 19,
   "metadata": {},
   "outputs": [],
   "source": [
    "# Ранг исходной матрицы меньше ранга расширенной матрицы, поэтому точных решений нет. Ищем псевдорешения"
   ]
  },
  {
   "cell_type": "code",
   "execution_count": 32,
   "metadata": {
    "scrolled": true
   },
   "outputs": [
    {
     "name": "stderr",
     "output_type": "stream",
     "text": [
      "C:\\Anaconda3\\lib\\site-packages\\ipykernel_launcher.py:1: FutureWarning: `rcond` parameter will change to the default of machine precision times ``max(M, N)`` where M and N are the input matrix dimensions.\n",
      "To use the future default and silence this warning we advise to pass `rcond=None`, to keep using the old, explicitly pass `rcond=-1`.\n",
      "  \"\"\"Entry point for launching an IPython kernel.\n"
     ]
    },
    {
     "data": {
      "text/plain": [
       "(array([ 1.13919353, -0.90498444, -0.9009803 ]),\n",
       " array([0.71523211]),\n",
       " 3,\n",
       " array([15.2817306 ,  9.59852942,  3.65197794]))"
      ]
     },
     "execution_count": 32,
     "metadata": {},
     "output_type": "execute_result"
    }
   ],
   "source": [
    "np.linalg.lstsq(A, b)"
   ]
  },
  {
   "cell_type": "markdown",
   "metadata": {},
   "source": [
    "### Сколько решений имеет линейная система"
   ]
  },
  {
   "cell_type": "code",
   "execution_count": 50,
   "metadata": {},
   "outputs": [],
   "source": [
    "A = np.array([[1, 2, 3],\n",
    "              [4, 5, 6],\n",
    "              [7, 8, 9]])"
   ]
  },
  {
   "cell_type": "code",
   "execution_count": 51,
   "metadata": {},
   "outputs": [],
   "source": [
    "b = np.array([12, 2, 1])"
   ]
  },
  {
   "cell_type": "code",
   "execution_count": 52,
   "metadata": {},
   "outputs": [
    {
     "data": {
      "text/plain": [
       "2"
      ]
     },
     "execution_count": 52,
     "metadata": {},
     "output_type": "execute_result"
    }
   ],
   "source": [
    "np.linalg.matrix_rank(A)"
   ]
  },
  {
   "cell_type": "code",
   "execution_count": 42,
   "metadata": {},
   "outputs": [],
   "source": [
    "B = np.array([[1, 2, 3, 12],\n",
    "              [4, 5, 6, 2],\n",
    "              [7, 8, 9, 1]])"
   ]
  },
  {
   "cell_type": "code",
   "execution_count": 43,
   "metadata": {},
   "outputs": [
    {
     "data": {
      "text/plain": [
       "3"
      ]
     },
     "execution_count": 43,
     "metadata": {},
     "output_type": "execute_result"
    }
   ],
   "source": [
    "np.linalg.matrix_rank(B)"
   ]
  },
  {
   "cell_type": "code",
   "execution_count": null,
   "metadata": {},
   "outputs": [],
   "source": [
    "# Ранг исходной матрицы меньше ранга расширенной матрицы, поэтому точных решений нет."
   ]
  },
  {
   "cell_type": "code",
   "execution_count": 44,
   "metadata": {},
   "outputs": [
    {
     "data": {
      "text/plain": [
       "array([ 2.83726777e+16, -5.67453553e+16,  2.83726777e+16])"
      ]
     },
     "execution_count": 44,
     "metadata": {},
     "output_type": "execute_result"
    }
   ],
   "source": [
    "#  Метод расходится\n",
    "\n",
    "np.linalg.solve(A, b)"
   ]
  },
  {
   "cell_type": "markdown",
   "metadata": {},
   "source": [
    "Если ноль – то измените вектор правой части так, чтобы система стала совместной, и решите ее. "
   ]
  },
  {
   "cell_type": "code",
   "execution_count": 65,
   "metadata": {},
   "outputs": [
    {
     "data": {
      "text/plain": [
       "2"
      ]
     },
     "execution_count": 65,
     "metadata": {},
     "output_type": "execute_result"
    }
   ],
   "source": [
    "# Изменим вектор правой части так, чтобы ранг расширенной матрицы был равен 2\n",
    "\n",
    "b = np.array([3, 2, 1])\n",
    "\n",
    "B = np.array([[1, 2, 3, 3],\n",
    "              [4, 5, 6, 2],\n",
    "              [7, 8, 9, 1]])\n",
    "\n",
    "np.linalg.matrix_rank(B)"
   ]
  },
  {
   "cell_type": "code",
   "execution_count": 67,
   "metadata": {},
   "outputs": [
    {
     "data": {
      "text/plain": [
       "array([ 0.33333333, -4.66666667,  4.        ])"
      ]
     },
     "execution_count": 67,
     "metadata": {},
     "output_type": "execute_result"
    }
   ],
   "source": [
    "# Решение есть\n",
    "\n",
    "np.linalg.solve(A, b)"
   ]
  },
  {
   "cell_type": "markdown",
   "metadata": {},
   "source": [
    "### Вычислите LU-разложение матрицы"
   ]
  },
  {
   "cell_type": "code",
   "execution_count": 68,
   "metadata": {},
   "outputs": [],
   "source": [
    "A = np.array([[1, 2, 3],\n",
    "              [2, 16, 21],\n",
    "              [4, 28, 73]])"
   ]
  },
  {
   "cell_type": "code",
   "execution_count": 73,
   "metadata": {},
   "outputs": [],
   "source": [
    "def decompose_to_LU(a):\n",
    "    \"\"\"Decompose matrix of coefficients to L and U matrices.\n",
    "     L and U triangular matrices will be represented in a single nxn matrix.\n",
    "    :param a: numpy matrix of coefficients\n",
    "    :return: numpy LU matrix\n",
    "    \"\"\"\n",
    "    # create emtpy LU-matrix\n",
    "    lu_matrix = np.matrix(np.zeros([a.shape[0], a.shape[1]]))\n",
    "    n = a.shape[0]\n",
    "\n",
    "    for k in range(n):\n",
    "        # calculate all residual k-row elements\n",
    "        for j in range(k, n):\n",
    "            lu_matrix[k, j] = a[k, j] - lu_matrix[k, :k] * lu_matrix[:k, j]\n",
    "        # calculate all residual k-column elemetns\n",
    "        for i in range(k + 1, n):\n",
    "            lu_matrix[i, k] = (a[i, k] - lu_matrix[i, : k] * lu_matrix[: k, k]) / lu_matrix[k, k]\n",
    "\n",
    "    return lu_matrix"
   ]
  },
  {
   "cell_type": "code",
   "execution_count": 74,
   "metadata": {},
   "outputs": [
    {
     "data": {
      "text/plain": [
       "matrix([[ 1.        ,  2.        ,  3.        ],\n",
       "        [ 2.        , 12.        , 15.        ],\n",
       "        [ 4.        ,  1.66666667, 36.        ]])"
      ]
     },
     "execution_count": 74,
     "metadata": {},
     "output_type": "execute_result"
    }
   ],
   "source": [
    "decompose_to_LU(A)"
   ]
  },
  {
   "cell_type": "code",
   "execution_count": 75,
   "metadata": {},
   "outputs": [],
   "source": [
    "def get_L(m):\n",
    "    \"\"\"Get triangular L matrix from a single LU-matrix\n",
    "    :param m: numpy LU-matrix\n",
    "    :return: numpy triangular L matrix\n",
    "    \"\"\"\n",
    "    L = m.copy()\n",
    "    for i in range(L.shape[0]):\n",
    "            L[i, i] = 1\n",
    "            L[i, i+1 :] = 0\n",
    "    return np.matrix(L)\n",
    "\n",
    "\n",
    "def get_U(m):\n",
    "    \"\"\"Get triangular U matrix from a single LU-matrix\n",
    "    :param m: numpy LU-matrix\n",
    "    :return: numpy triangular U matrix\n",
    "    \"\"\"\n",
    "    U = m.copy()\n",
    "    for i in range(1, U.shape[0]):\n",
    "        U[i, :i] = 0\n",
    "    return U"
   ]
  },
  {
   "cell_type": "code",
   "execution_count": 77,
   "metadata": {
    "scrolled": true
   },
   "outputs": [
    {
     "data": {
      "text/plain": [
       "matrix([[ 1.,  2.,  3.],\n",
       "        [ 2., 16., 21.],\n",
       "        [ 4., 28., 73.]])"
      ]
     },
     "execution_count": 77,
     "metadata": {},
     "output_type": "execute_result"
    }
   ],
   "source": [
    "LU = decompose_to_LU(A)\n",
    "L = get_L(LU)\n",
    "U = get_U(LU)\n",
    "\n",
    "L * U"
   ]
  },
  {
   "cell_type": "code",
   "execution_count": 106,
   "metadata": {
    "scrolled": true
   },
   "outputs": [
    {
     "data": {
      "text/plain": [
       "matrix([[1.        , 0.        , 0.        ],\n",
       "        [2.        , 1.        , 0.        ],\n",
       "        [4.        , 1.66666667, 1.        ]])"
      ]
     },
     "execution_count": 106,
     "metadata": {},
     "output_type": "execute_result"
    }
   ],
   "source": [
    "L"
   ]
  },
  {
   "cell_type": "code",
   "execution_count": 107,
   "metadata": {},
   "outputs": [
    {
     "data": {
      "text/plain": [
       "matrix([[ 1.,  2.,  3.],\n",
       "        [ 0., 12., 15.],\n",
       "        [ 0.,  0., 36.]])"
      ]
     },
     "execution_count": 107,
     "metadata": {},
     "output_type": "execute_result"
    }
   ],
   "source": [
    "U"
   ]
  },
  {
   "cell_type": "markdown",
   "metadata": {},
   "source": [
    "После этого придумайте вектор правых частей и решите полученную линейную систему трех уравнений с данной матрицей."
   ]
  },
  {
   "cell_type": "code",
   "execution_count": 100,
   "metadata": {},
   "outputs": [],
   "source": [
    "b = np.array([1, 2, 3])"
   ]
  },
  {
   "cell_type": "code",
   "execution_count": 101,
   "metadata": {},
   "outputs": [
    {
     "data": {
      "text/plain": [
       "array([ 1.01388889,  0.03472222, -0.02777778])"
      ]
     },
     "execution_count": 101,
     "metadata": {},
     "output_type": "execute_result"
    }
   ],
   "source": [
    "np.linalg.solve(A, b)"
   ]
  },
  {
   "cell_type": "markdown",
   "metadata": {},
   "source": [
    "### Найдите нормальное псевдорешение недоопределенной системы"
   ]
  },
  {
   "cell_type": "markdown",
   "metadata": {},
   "source": [
    "### Для этого определите функцию Q(x,y,z), равную норме решения, и найдите ее минимум"
   ]
  },
  {
   "cell_type": "code",
   "execution_count": 110,
   "metadata": {},
   "outputs": [],
   "source": [
    "A = np.array([[1, 2, -1],\n",
    "              [8, -5, 2]])\n",
    "b = np.array([1, 12])"
   ]
  },
  {
   "cell_type": "code",
   "execution_count": null,
   "metadata": {},
   "outputs": [],
   "source": [
    "# Решение встроенным методом"
   ]
  },
  {
   "cell_type": "code",
   "execution_count": 112,
   "metadata": {
    "scrolled": true
   },
   "outputs": [
    {
     "name": "stderr",
     "output_type": "stream",
     "text": [
      "C:\\Anaconda3\\lib\\site-packages\\ipykernel_launcher.py:1: FutureWarning: `rcond` parameter will change to the default of machine precision times ``max(M, N)`` where M and N are the input matrix dimensions.\n",
      "To use the future default and silence this warning we advise to pass `rcond=None`, to keep using the old, explicitly pass `rcond=-1`.\n",
      "  \"\"\"Entry point for launching an IPython kernel.\n"
     ]
    },
    {
     "data": {
      "text/plain": [
       "(array([ 1.38191882, -0.18081181,  0.0202952 ]),\n",
       " array([], dtype=float64),\n",
       " 2,\n",
       " array([9.65316119, 2.41173777]))"
      ]
     },
     "execution_count": 112,
     "metadata": {},
     "output_type": "execute_result"
    }
   ],
   "source": [
    "np.linalg.lstsq(A, b)"
   ]
  },
  {
   "cell_type": "code",
   "execution_count": null,
   "metadata": {},
   "outputs": [],
   "source": [
    "# Решение вручную"
   ]
  },
  {
   "cell_type": "code",
   "execution_count": 180,
   "metadata": {},
   "outputs": [],
   "source": [
    "X = []\n",
    "Y = []\n",
    "Z = []\n",
    "Q = []\n",
    "z = -0.05\n",
    "for i in range(20):\n",
    "    x = 1/21*(z + 29)\n",
    "    y = 5/21*(2*z - 0.8)\n",
    "    q = np.sqrt(x*x + y*y + z*z)\n",
    "    X.append(x)\n",
    "    Y.append(y)\n",
    "    Z.append(z)\n",
    "    Q.append(q)\n",
    "    z += 0.01"
   ]
  },
  {
   "cell_type": "code",
   "execution_count": 181,
   "metadata": {},
   "outputs": [],
   "source": [
    "import matplotlib.pyplot as plt"
   ]
  },
  {
   "cell_type": "code",
   "execution_count": 182,
   "metadata": {},
   "outputs": [
    {
     "data": {
      "image/png": "[encoded data removed]",
      "text/plain": [
       "<Figure size 432x288 with 1 Axes>"
      ]
     },
     "metadata": {
      "needs_background": "light"
     },
     "output_type": "display_data"
    }
   ],
   "source": [
    "plt.plot(Z,Q)\n",
    "plt.grid(True)"
   ]
  },
  {
   "cell_type": "code",
   "execution_count": 140,
   "metadata": {},
   "outputs": [
    {
     "data": {
      "text/plain": [
       "[6.446887487512403,\n",
       " 6.445507532145065,\n",
       " 6.4441463532590735,\n",
       " 6.442803962755217,\n",
       " 6.4414803723798695,\n",
       " 6.4401755937244864,\n",
       " 6.438889638225106,\n",
       " 6.437622517161858,\n",
       " 6.436374241658482,\n",
       " 6.435144822681839,\n",
       " 6.433934271041446,\n",
       " 6.432742597389003,\n",
       " 6.43156981221794,\n",
       " 6.430415925862948,\n",
       " 6.429280948499546,\n",
       " 6.4281648901436315,\n",
       " 6.427067760651042,\n",
       " 6.4259895697171325,\n",
       " 6.424930326876348,\n",
       " 6.423890041501809,\n",
       " 6.4228687228049015,\n",
       " 6.421866379834877,\n",
       " 6.420883021478448,\n",
       " 6.419918656459406,\n",
       " 6.418973293338239,\n",
       " 6.4180469405117515,\n",
       " 6.417139606212691,\n",
       " 6.4162512985094,\n",
       " 6.4153820253054485,\n",
       " 6.414531794339284,\n",
       " 6.413700613183901,\n",
       " 6.4128884892464955,\n",
       " 6.412095429768144,\n",
       " 6.411321441823478,\n",
       " 6.410566532320379,\n",
       " 6.40983070799966,\n",
       " 6.409113975434777,\n",
       " 6.408416341031534,\n",
       " 6.407737811027795,\n",
       " 6.40707839149321,\n",
       " 6.406438088328945,\n",
       " 6.405816907267417,\n",
       " 6.4052148538720415,\n",
       " 6.4046319335369795,\n",
       " 6.4040681514869044,\n",
       " 6.403523512776759,\n",
       " 6.40299802229154,\n",
       " 6.402491684746074,\n",
       " 6.402004504684804,\n",
       " 6.401536486481593,\n",
       " 6.401087634339522,\n",
       " 6.400657952290704,\n",
       " 6.400247444196105,\n",
       " 6.399856113745371,\n",
       " 6.399483964456655,\n",
       " 6.399130999676472,\n",
       " 6.398797222579537,\n",
       " 6.39848263616863,\n",
       " 6.398187243274457,\n",
       " 6.397911046555523,\n",
       " 6.397654048498015,\n",
       " 6.397416251415688,\n",
       " 6.3971976574497615,\n",
       " 6.396998268568826,\n",
       " 6.396818086568747,\n",
       " 6.396657113072593,\n",
       " 6.396515349530559,\n",
       " 6.396392797219893,\n",
       " 6.396289457244854,\n",
       " 6.396205330536653,\n",
       " 6.396140417853408,\n",
       " 6.396094719780117,\n",
       " 6.39606823672863,\n",
       " 6.396060968937627,\n",
       " 6.396072916472612,\n",
       " 6.396104079225903,\n",
       " 6.396154456916648,\n",
       " 6.396224049090823,\n",
       " 6.396312855121266,\n",
       " 6.396420874207701,\n",
       " 6.396548105376765,\n",
       " 6.39669454748207,\n",
       " 6.396860199204236,\n",
       " 6.397045059050963,\n",
       " 6.397249125357092,\n",
       " 6.397472396284684,\n",
       " 6.397714869823096,\n",
       " 6.397976543789081,\n",
       " 6.39825741582688,\n",
       " 6.398557483408329,\n",
       " 6.398876743832971,\n",
       " 6.399215194228179,\n",
       " 6.399572831549294,\n",
       " 6.399949652579742,\n",
       " 6.400345653931193,\n",
       " 6.400760832043715,\n",
       " 6.40119518318592,\n",
       " 6.401648703455147,\n",
       " 6.402121388777629,\n",
       " 6.40261323490867,\n",
       " 6.4031242374328485,\n",
       " 6.4036543917642055,\n",
       " 6.404203693146452,\n",
       " 6.4047721366531825,\n",
       " 6.405359717188095,\n",
       " 6.405966429485219,\n",
       " 6.406592268109148,\n",
       " 6.407237227455284,\n",
       " 6.407901301750092,\n",
       " 6.408584485051344,\n",
       " 6.409286771248402,\n",
       " 6.410008154062473,\n",
       " 6.410748627046897,\n",
       " 6.411508183587432,\n",
       " 6.41228681690255,\n",
       " 6.413084520043728,\n",
       " 6.41390128589577,\n",
       " 6.414737107177115,\n",
       " 6.415591976440152,\n",
       " 6.416465886071567,\n",
       " 6.417358828292661,\n",
       " 6.418270795159706,\n",
       " 6.419201778564287,\n",
       " 6.420151770233665,\n",
       " 6.4211207617311405,\n",
       " 6.422108744456418,\n",
       " 6.423115709645992,\n",
       " 6.424141648373528,\n",
       " 6.425186551550252,\n",
       " 6.426250409925352,\n",
       " 6.427333214086381,\n",
       " 6.4284349544596635,\n",
       " 6.429555621310725,\n",
       " 6.430695204744704,\n",
       " 6.43185369470679,\n",
       " 6.433031080982657,\n",
       " 6.43422735319891,\n",
       " 6.4354425008235365,\n",
       " 6.436676513166355,\n",
       " 6.4379293793794865,\n",
       " 6.4392010884578195,\n",
       " 6.440491629239483,\n",
       " 6.441800990406332,\n",
       " 6.443129160484431,\n",
       " 6.44447612784455,\n",
       " 6.44584188070266,\n",
       " 6.4472264071204455,\n",
       " 6.448629695005804,\n",
       " 6.450051732113376,\n",
       " 6.451492506045059,\n",
       " 6.452952004250535,\n",
       " 6.454430214027812,\n",
       " 6.4559271225237564,\n",
       " 6.457442716734644,\n",
       " 6.458976983506705,\n",
       " 6.460529909536688,\n",
       " 6.462101481372415,\n",
       " 6.463691685413346,\n",
       " 6.465300507911165,\n",
       " 6.466927934970342,\n",
       " 6.468573952548725,\n",
       " 6.470238546458126,\n",
       " 6.471921702364913,\n",
       " 6.473623405790608,\n",
       " 6.475343642112494,\n",
       " 6.477082396564219,\n",
       " 6.478839654236407,\n",
       " 6.480615400077281,\n",
       " 6.482409618893284,\n",
       " 6.484222295349706,\n",
       " 6.486053413971311,\n",
       " 6.487902959142979,\n",
       " 6.489770915110351,\n",
       " 6.491657265980461,\n",
       " 6.493561995722398,\n",
       " 6.495485088167954,\n",
       " 6.4974265270122835,\n",
       " 6.499386295814569,\n",
       " 6.501364377998684,\n",
       " 6.503360756853863,\n",
       " 6.505375415535383,\n",
       " 6.507408337065235,\n",
       " 6.50945950433281,\n",
       " 6.511528900095587,\n",
       " 6.513616506979821,\n",
       " 6.515722307481237,\n",
       " 6.517846283965731,\n",
       " 6.519988418670069,\n",
       " 6.522148693702593,\n",
       " 6.524327091043927,\n",
       " 6.526523592547692,\n",
       " 6.5287381799412225,\n",
       " 6.53097083482628,\n",
       " 6.533221538679779,\n",
       " 6.5354902728545134,\n",
       " 6.537777018579878,\n",
       " 6.540081756962607,\n",
       " 6.542404468987505,\n",
       " 6.544745135518181,\n",
       " 6.547103737297797,\n",
       " 6.549480254949802,\n",
       " 6.551874668978684,\n",
       " 6.554286959770712,\n",
       " 6.556717107594694,\n",
       " 6.559165092602727,\n",
       " 6.561630894830949,\n",
       " 6.564114494200304,\n",
       " 6.566615870517303,\n",
       " 6.569135003474776,\n",
       " 6.571671872652654,\n",
       " 6.5742264575187255,\n",
       " 6.576798737429408,\n",
       " 6.579388691630518,\n",
       " 6.581996299258052,\n",
       " 6.584621539338956,\n",
       " 6.587264390791901,\n",
       " 6.589924832428071,\n",
       " 6.592602842951937,\n",
       " 6.5952984009620375,\n",
       " 6.598011484951776,\n",
       " 6.600742073310191,\n",
       " 6.603490144322757,\n",
       " 6.606255676172161,\n",
       " 6.609038646939105,\n",
       " 6.61183903460309,\n",
       " 6.614656817043211,\n",
       " 6.617491972038953,\n",
       " 6.620344477270983,\n",
       " 6.623214310321952,\n",
       " 6.626101448677288,\n",
       " 6.629005869725991,\n",
       " 6.631927550761447,\n",
       " 6.634866468982211,\n",
       " 6.637822601492816,\n",
       " 6.640795925304581,\n",
       " 6.6437864173364005,\n",
       " 6.646794054415559,\n",
       " 6.64981881327853,\n",
       " 6.652860670571779,\n",
       " 6.655919602852573,\n",
       " 6.65899558658978,\n",
       " 6.662088598164684,\n",
       " 6.665198613871776,\n",
       " 6.668325609919574,\n",
       " 6.671469562431425,\n",
       " 6.674630447446306,\n",
       " 6.677808240919641,\n",
       " 6.681002918724102,\n",
       " 6.684214456650406,\n",
       " 6.687442830408144,\n",
       " 6.690688015626565,\n",
       " 6.693949987855396,\n",
       " 6.697228722565643,\n",
       " 6.700524195150396,\n",
       " 6.703836380925639,\n",
       " 6.707165255131048,\n",
       " 6.7105107929308,\n",
       " 6.713872969414379,\n",
       " 6.717251759597373,\n",
       " 6.720647138422283,\n",
       " 6.7240590807593215,\n",
       " 6.727487561407218,\n",
       " 6.7309325550940144,\n",
       " 6.73439403647787,\n",
       " 6.737871980147858,\n",
       " 6.741366360624765,\n",
       " 6.74487715236189,\n",
       " 6.748404329745838,\n",
       " 6.751947867097312,\n",
       " 6.755507738671918,\n",
       " 6.75908391866095,\n",
       " 6.762676381192185,\n",
       " 6.766285100330672,\n",
       " 6.769910050079522,\n",
       " 6.773551204380703,\n",
       " 6.777208537115815,\n",
       " 6.780882022106884,\n",
       " 6.784571633117149,\n",
       " 6.788277343851832,\n",
       " 6.791999127958935,\n",
       " 6.79573695903001,\n",
       " 6.799490810600941,\n",
       " 6.803260656152714,\n",
       " 6.8070464691122075,\n",
       " 6.810848222852947,\n",
       " 6.814665890695887,\n",
       " 6.818499445910182,\n",
       " 6.822348861713949,\n",
       " 6.826214111275036,\n",
       " 6.830095167711788,\n",
       " 6.833992004093804,\n",
       " 6.837904593442705,\n",
       " 6.8418329087328855,\n",
       " 6.845776922892275,\n",
       " 6.849736608803088,\n",
       " 6.853711939302575,\n",
       " 6.857702887183782,\n",
       " 6.8617094251962865,\n",
       " 6.865731526046951,\n",
       " 6.869769162400662]"
      ]
     },
     "execution_count": 140,
     "metadata": {},
     "output_type": "execute_result"
    }
   ],
   "source": [
    "Q"
   ]
  },
  {
   "cell_type": "code",
   "execution_count": null,
   "metadata": {},
   "outputs": [],
   "source": [
    "# Q достигает минимума при z = 0,02"
   ]
  },
  {
   "cell_type": "code",
   "execution_count": 183,
   "metadata": {},
   "outputs": [],
   "source": [
    "x = 1/21*((-0.02) + 29)\n",
    "y = 5/21*(2*(-0.02) - 4/5)"
   ]
  },
  {
   "cell_type": "code",
   "execution_count": 184,
   "metadata": {},
   "outputs": [
    {
     "data": {
      "text/plain": [
       "1.38"
      ]
     },
     "execution_count": 184,
     "metadata": {},
     "output_type": "execute_result"
    }
   ],
   "source": [
    "x"
   ]
  },
  {
   "cell_type": "code",
   "execution_count": 185,
   "metadata": {},
   "outputs": [
    {
     "data": {
      "text/plain": [
       "-0.2"
      ]
     },
     "execution_count": 185,
     "metadata": {},
     "output_type": "execute_result"
    }
   ],
   "source": [
    "y"
   ]
  },
  {
   "cell_type": "code",
   "execution_count": 186,
   "metadata": {},
   "outputs": [],
   "source": [
    "# Решения сходятся"
   ]
  },
  {
   "cell_type": "markdown",
   "metadata": {},
   "source": [
    " ### Найдите одно из псевдорешений вырожденной системы"
   ]
  },
  {
   "cell_type": "code",
   "execution_count": 187,
   "metadata": {},
   "outputs": [],
   "source": [
    "A = np.array([[1, 2, 3],\n",
    "              [4, 5, 6],\n",
    "              [7, 8, 9]])\n",
    "\n",
    "b = np.array([2, 5, 11])"
   ]
  },
  {
   "cell_type": "code",
   "execution_count": 188,
   "metadata": {},
   "outputs": [],
   "source": [
    "B = np.array([[1, 2, 3, 2],\n",
    "              [4, 5, 6, 5],\n",
    "              [7, 8, 9, 11]])"
   ]
  },
  {
   "cell_type": "code",
   "execution_count": 189,
   "metadata": {},
   "outputs": [
    {
     "data": {
      "text/plain": [
       "2"
      ]
     },
     "execution_count": 189,
     "metadata": {},
     "output_type": "execute_result"
    }
   ],
   "source": [
    "np.linalg.matrix_rank(A)"
   ]
  },
  {
   "cell_type": "code",
   "execution_count": 190,
   "metadata": {},
   "outputs": [
    {
     "data": {
      "text/plain": [
       "3"
      ]
     },
     "execution_count": 190,
     "metadata": {},
     "output_type": "execute_result"
    }
   ],
   "source": [
    "np.linalg.matrix_rank(B)"
   ]
  },
  {
   "cell_type": "code",
   "execution_count": 191,
   "metadata": {},
   "outputs": [],
   "source": [
    "# Система несовместна, то есть точных решений нет"
   ]
  },
  {
   "cell_type": "code",
   "execution_count": 193,
   "metadata": {},
   "outputs": [
    {
     "name": "stderr",
     "output_type": "stream",
     "text": [
      "C:\\Anaconda3\\lib\\site-packages\\ipykernel_launcher.py:1: FutureWarning: `rcond` parameter will change to the default of machine precision times ``max(M, N)`` where M and N are the input matrix dimensions.\n",
      "To use the future default and silence this warning we advise to pass `rcond=None`, to keep using the old, explicitly pass `rcond=-1`.\n",
      "  \"\"\"Entry point for launching an IPython kernel.\n"
     ]
    },
    {
     "data": {
      "text/plain": [
       "(array([ 1.25,  0.5 , -0.25]),\n",
       " array([], dtype=float64),\n",
       " 2,\n",
       " array([1.68481034e+01, 1.06836951e+00, 3.33475287e-16]))"
      ]
     },
     "execution_count": 193,
     "metadata": {},
     "output_type": "execute_result"
    }
   ],
   "source": [
    "# Нормальное псевдорешение\n",
    "\n",
    "np.linalg.lstsq(A, b)"
   ]
  },
  {
   "cell_type": "code",
   "execution_count": null,
   "metadata": {},
   "outputs": [],
   "source": []
  }
 ],
 "metadata": {
  "kernelspec": {
   "display_name": "Python 3",
   "language": "python",
   "name": "python3"
  },
  "language_info": {
   "codemirror_mode": {
    "name": "ipython",
    "version": 3
   },
   "file_extension": ".py",
   "mimetype": "text/x-python",
   "name": "python",
   "nbconvert_exporter": "python",
   "pygments_lexer": "ipython3",
   "version": "3.7.3"
  }
 },
 "nbformat": 4,
 "nbformat_minor": 2
}
