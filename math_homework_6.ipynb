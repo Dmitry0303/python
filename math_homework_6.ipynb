{
 "cells": [
  {
   "cell_type": "markdown",
   "metadata": {},
   "source": [
    "# Задания к уроку 6"
   ]
  },
  {
   "cell_type": "markdown",
   "metadata": {},
   "source": [
    "# Тема “Элементы теории вероятностей”"
   ]
  },
  {
   "cell_type": "markdown",
   "metadata": {},
   "source": [
    "### Задание (теорема сложения) \n",
    "### Найти вероятность выпадения 2 или 5 очков при подбрасывании игральной кости, на гранях которой имеются соответственно 1,2,3,4,5 и 6 очков."
   ]
  },
  {
   "cell_type": "code",
   "execution_count": 1,
   "metadata": {},
   "outputs": [],
   "source": [
    "# Теорема сложения P(A + B) = P(A) + P(B)\n",
    "# Это несовместные события, поэтому вероятность выпадения 2 или 5 очков равна сумме вероятностей выпадения 2 очков\n",
    "# и 5 очков. Т.е. результат должен быть равен 1/6 + 1/6 = 1/3 = 0,333(3)"
   ]
  },
  {
   "cell_type": "code",
   "execution_count": 2,
   "metadata": {},
   "outputs": [],
   "source": [
    "import numpy as np"
   ]
  },
  {
   "cell_type": "code",
   "execution_count": 7,
   "metadata": {},
   "outputs": [
    {
     "data": {
      "text/plain": [
       "0.333633"
      ]
     },
     "execution_count": 7,
     "metadata": {},
     "output_type": "execute_result"
    }
   ],
   "source": [
    "N = 1000000\n",
    "luck = 0\n",
    "for i in range(N):\n",
    "    x = np.random.randint(1, 7)\n",
    "    if x == 2 or x == 5:\n",
    "        luck += 1\n",
    "res = luck/N\n",
    "res"
   ]
  },
  {
   "cell_type": "code",
   "execution_count": 9,
   "metadata": {},
   "outputs": [],
   "source": [
    "# Результат сходится"
   ]
  },
  {
   "cell_type": "markdown",
   "metadata": {},
   "source": [
    "### Задание (теорема умножения)\n",
    "### Найти вероятность того, что при двух подбрасываниях той же самой игральной кости сначала выпадет 2, а затем 5.\n"
   ]
  },
  {
   "cell_type": "code",
   "execution_count": 10,
   "metadata": {},
   "outputs": [],
   "source": [
    "# Теорема умножения\n",
    "# P(AB) = P(A)P(B|A)\n",
    "# Вероятность выпадения 2 а затем 5 очков равна произведению вероятностей выпадения 2 очков\n",
    "# и 5 очков (при условии, что перед этим выпало 2). Т.е. результат должен быть равен 1/6 * 1/6 = 1/36 = 0,0277(7)"
   ]
  },
  {
   "cell_type": "code",
   "execution_count": 12,
   "metadata": {},
   "outputs": [
    {
     "data": {
      "text/plain": [
       "0.027751"
      ]
     },
     "execution_count": 12,
     "metadata": {},
     "output_type": "execute_result"
    }
   ],
   "source": [
    "N = 1000000\n",
    "luck = 0\n",
    "for i in range(N):\n",
    "    first = np.random.randint(1, 7)\n",
    "    second = np.random.randint(1, 7)\n",
    "    if first == 2 and second == 5:\n",
    "        luck += 1\n",
    "res = luck/N\n",
    "res"
   ]
  },
  {
   "cell_type": "code",
   "execution_count": 13,
   "metadata": {},
   "outputs": [],
   "source": [
    "# Результат сходится"
   ]
  },
  {
   "cell_type": "markdown",
   "metadata": {},
   "source": [
    "### Задание \n",
    "### Найти вероятность выпадения 2 и 5 очков при двух подбрасываниях той же самой игральной игральной кости."
   ]
  },
  {
   "cell_type": "code",
   "execution_count": 14,
   "metadata": {},
   "outputs": [],
   "source": [
    "# Теорема умножения\n",
    "# P(AB) = P(A)P(B|A)\n",
    "# Так как в данном случае порядок не оговаривается, то результат должен быть равен вероятности того,\n",
    "# что сначала выпадет 2 а потом 5 или 5 а потом 2 (Используется теорема сложения):\n",
    "# P(AB + BA) = P(A)P(B|A) + P(B)P(A|B)\n",
    "# На основе предыдущей задачи результат должен быть равен 1/6 * 1/6 + 1/6 * 1/6 = 2/36 = 0.0555(5)"
   ]
  },
  {
   "cell_type": "code",
   "execution_count": 15,
   "metadata": {},
   "outputs": [
    {
     "data": {
      "text/plain": [
       "0.055637"
      ]
     },
     "execution_count": 15,
     "metadata": {},
     "output_type": "execute_result"
    }
   ],
   "source": [
    "N = 1000000\n",
    "luck = 0\n",
    "for i in range(N):\n",
    "    first = np.random.randint(1, 7)\n",
    "    second = np.random.randint(1, 7)\n",
    "    if (first == 2 and second == 5) or (first == 5 and second == 2):\n",
    "        luck += 1\n",
    "res = luck/N\n",
    "res"
   ]
  },
  {
   "cell_type": "code",
   "execution_count": 16,
   "metadata": {},
   "outputs": [],
   "source": [
    "# Результат сходится"
   ]
  },
  {
   "cell_type": "markdown",
   "metadata": {},
   "source": [
    "### Задание  (Геометрическая вероятность + интервалы)\n",
    "### На отрезке AB длиной 20 см наугад отметили точку C. Какова вероятность, что она находится на расстоянии не более 9 см от точки А и не более 15 см от точки В?"
   ]
  },
  {
   "cell_type": "code",
   "execution_count": 17,
   "metadata": {},
   "outputs": [],
   "source": [
    "# Удачный для нас интервал - это [5,9]\n",
    "# Будем считать, что точка отмечается на отрезке по равномерному закону.\n",
    "# Тогда вероятность успеха равна отношению длин отрезков: 4/20 = 0.2 "
   ]
  },
  {
   "cell_type": "code",
   "execution_count": 20,
   "metadata": {},
   "outputs": [
    {
     "data": {
      "text/plain": [
       "0.199572"
      ]
     },
     "execution_count": 20,
     "metadata": {},
     "output_type": "execute_result"
    }
   ],
   "source": [
    "N = 1000000\n",
    "luck = 0\n",
    "for i in range(N):\n",
    "    point = 20*np.random.sample()\n",
    "    if point <= 9 and point >= 5:\n",
    "        luck += 1\n",
    "res = luck/N\n",
    "res"
   ]
  },
  {
   "cell_type": "code",
   "execution_count": 22,
   "metadata": {},
   "outputs": [],
   "source": [
    "# Результат сходится"
   ]
  },
  {
   "cell_type": "markdown",
   "metadata": {},
   "source": [
    "### Задание. \n",
    "### Телефонный номер состоит из 7 цифр. Какова вероятность, что это номер 8882227?"
   ]
  },
  {
   "cell_type": "code",
   "execution_count": 23,
   "metadata": {},
   "outputs": [],
   "source": [
    "# Если не оговаривается, какие бывают возможные номера, то считаем, что каждый разряд может принимать значение \n",
    "# любой цифры от 0 до 9. Количество комбинаций равно размеру алфавита, возведенному в степень длины числа,\n",
    "# то есть 10^7 = 10.000.000. То есть вероятность того, что это необходимый номер равна 1/10.000.000"
   ]
  },
  {
   "cell_type": "markdown",
   "metadata": {},
   "source": [
    "### Задание. \n",
    "### Набирая номер телефона, абонент забыл 2 последние цифры, и, помня только то, что эти цифры различны и среди них нет нуля, стал набирать их наудачу. Сколько вариантов ему надо перебрать, чтобы наверняка найти нужный номер? Какова вероятность того, что он угадает номер с первого раза?"
   ]
  },
  {
   "cell_type": "code",
   "execution_count": 24,
   "metadata": {},
   "outputs": [],
   "source": [
    "# Количество комбинаций равно размеру алфавита, возведенному в степень длины числа, то есть 10^2, за вычетом тех \n",
    "# комбинаций, в которых оба числа одинаковы либо одно из них равно 0. \n",
    "# Отбрасываем комбинации: 00,11,22,33,44,55,66,77,88,99,10,01,20,02,30,03,40,04,50,05,60,06,70,07,80,08,90,09\n",
    "# Это 28 заведомо неправильных комбинаций. Тогда количество возможных вариантов равно 100 - 28 = 72. В худшем случае\n",
    "# c 72-го раза будет найден нужный номер. Вероятность угадать номер с первого раза равна 1/72 = 0,0138(8)"
   ]
  }
 ],
 "metadata": {
  "kernelspec": {
   "display_name": "Python 3",
   "language": "python",
   "name": "python3"
  },
  "language_info": {
   "codemirror_mode": {
    "name": "ipython",
    "version": 3
   },
   "file_extension": ".py",
   "mimetype": "text/x-python",
   "name": "python",
   "nbconvert_exporter": "python",
   "pygments_lexer": "ipython3",
   "version": "3.7.3"
  }
 },
 "nbformat": 4,
 "nbformat_minor": 2
}
