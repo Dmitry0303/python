{
 "cells": [
  {
   "cell_type": "markdown",
   "metadata": {},
   "source": [
    "# Задания к уроку 5"
   ]
  },
  {
   "cell_type": "markdown",
   "metadata": {},
   "source": [
    "### Напишите код, моделирующий выпадение поля в рулетке (с учетом поля зеро)."
   ]
  },
  {
   "cell_type": "code",
   "execution_count": 46,
   "metadata": {},
   "outputs": [],
   "source": [
    "import numpy as np"
   ]
  },
  {
   "cell_type": "code",
   "execution_count": 47,
   "metadata": {},
   "outputs": [
    {
     "data": {
      "text/plain": [
       "36"
      ]
     },
     "execution_count": 47,
     "metadata": {},
     "output_type": "execute_result"
    }
   ],
   "source": [
    "np.random.randint(0, 37)"
   ]
  },
  {
   "cell_type": "code",
   "execution_count": 48,
   "metadata": {},
   "outputs": [
    {
     "name": "stdout",
     "output_type": "stream",
     "text": [
      "\n",
      "16 красная\n",
      "\n",
      "12 красная\n",
      "\n",
      "17 черная\n",
      "\n",
      "34 красная\n",
      "\n",
      "15 черная\n"
     ]
    }
   ],
   "source": [
    "for i in range(0, 5):\n",
    "    a = input()\n",
    "    x = np.random.randint(0, 37)\n",
    "    if x == 0:\n",
    "        print('Zero')\n",
    "    elif x in (32, 19, 21, 25, 34, 27, 36, 30 , 23, 5, 16, 1, 14, 9, 18, 7, 12, 3):\n",
    "        print(x, 'красная')\n",
    "    else:\n",
    "        print(x, 'черная')\n",
    "        "
   ]
  },
  {
   "cell_type": "markdown",
   "metadata": {},
   "source": [
    "### Напишите код, проверяющий любую из теорем сложения или умножения вероятности на примере рулетки или подбрасывания монетки."
   ]
  },
  {
   "cell_type": "code",
   "execution_count": 49,
   "metadata": {},
   "outputs": [
    {
     "data": {
      "text/plain": [
       "1.0"
      ]
     },
     "execution_count": 49,
     "metadata": {},
     "output_type": "execute_result"
    }
   ],
   "source": [
    "# Проверим теорему сложения вероятностей P(A+B+C) = P(A) + P(B) + P(C) = 1, где A, B, C - \n",
    "# полная группа несовместных событий\n",
    "\n",
    "N = 10000\n",
    "zero_cnt =  0\n",
    "red_cnt  =  0\n",
    "black_cnt = 0\n",
    "for i in range(N):\n",
    "    x = np.random.randint(0, 37)\n",
    "    if x == 0:\n",
    "        zero_cnt += 1\n",
    "    elif x in (32, 19, 21, 25, 34, 27, 36, 30 , 23, 5, 16, 1, 14, 9, 18, 7, 12, 3):\n",
    "        red_cnt += 1\n",
    "    else:\n",
    "        black_cnt += 1\n",
    "zero_prob = zero_cnt/N\n",
    "red_prob = red_cnt/N\n",
    "black_prob = black_cnt/N\n",
    "res = zero_prob + red_prob + black_prob\n",
    "res"
   ]
  },
  {
   "cell_type": "markdown",
   "metadata": {},
   "source": [
    "### Сгенерируйте десять выборок случайных чисел х0, …, х9. и постройте гистограмму распределения случайной суммы х0+х1+ …+ х9."
   ]
  },
  {
   "cell_type": "code",
   "execution_count": 50,
   "metadata": {},
   "outputs": [],
   "source": [
    "import matplotlib.pyplot as plt\n",
    "import numpy as np\n",
    "import matplotlib.mlab as mlab"
   ]
  },
  {
   "cell_type": "code",
   "execution_count": 51,
   "metadata": {},
   "outputs": [
    {
     "name": "stderr",
     "output_type": "stream",
     "text": [
      "C:\\Anaconda3\\lib\\site-packages\\matplotlib\\axes\\_axes.py:6521: MatplotlibDeprecationWarning: \n",
      "The 'normed' kwarg was deprecated in Matplotlib 2.1 and will be removed in 3.1. Use 'density' instead.\n",
      "  alternative=\"'density'\", removal=\"3.1\")\n"
     ]
    },
    {
     "data": {
      "text/plain": [
       "Text(0, 0.5, 'Probability')"
      ]
     },
     "execution_count": 51,
     "metadata": {},
     "output_type": "execute_result"
    },
    {
     "data": {
      "image/png": "[encoded data removed]",
      "text/plain": [
       "<Figure size 432x288 with 1 Axes>"
      ]
     },
     "metadata": {
      "needs_background": "light"
     },
     "output_type": "display_data"
    }
   ],
   "source": [
    "mu0, mu1, mu2, mu3, mu4, mu5, mu6, mu7, mu8, mu9 = 10, 20, 30, 40, 50, 60, 70, 80, 90, 100\n",
    "sigma0, sigma1, sigma2, sigma3, sigma4, sigma5, sigma6, sigma7, sigma8, sigma9 = 15, 15, 15, 15, 15, 15, 15, 15, 15, 15\n",
    "x0 = mu0 + sigma0 * np.random.randn(10000)\n",
    "x1 = mu1 + sigma1 * np.random.randn(10000)\n",
    "x2 = mu2 + sigma2 * np.random.randn(10000)\n",
    "x3 = mu3 + sigma3 * np.random.randn(10000)\n",
    "x4 = mu4 + sigma4 * np.random.randn(10000)\n",
    "x5 = mu5 + sigma5 * np.random.randn(10000)\n",
    "x6 = mu6 + sigma6 * np.random.randn(10000)\n",
    "x7 = mu7 + sigma7 * np.random.randn(10000)\n",
    "x8 = mu8 + sigma8 * np.random.randn(10000)\n",
    "x9 = mu9 + sigma9 * np.random.randn(10000)\n",
    "x10 = x0 + x1 + x2 + x3 + x4 + x5 + x6 + x7 + x8 + x9\n",
    "num_bins = 20\n",
    "n, bins, patches = plt.hist(x10, num_bins, normed = True, facecolor = 'blue', alpha = 0.5)\n",
    "plt.xlabel('x')\n",
    "plt.ylabel('Probability')"
   ]
  },
  {
   "cell_type": "markdown",
   "metadata": {},
   "source": [
    "### Дополните код Монте-Карло последовательности независимых испытаний расчетом соответствующих вероятностей (через биномиальное распределение) и сравните результаты.\n"
   ]
  },
  {
   "cell_type": "code",
   "execution_count": 52,
   "metadata": {},
   "outputs": [
    {
     "name": "stdout",
     "output_type": "stream",
     "text": [
      "37529 100000 0.37529\n"
     ]
    }
   ],
   "source": [
    "# Модель Монте-Карло для последовательности независимых испытаний (подбрасывание монеты)\n",
    "# Проверим вероятность выпадения двух успехов на четырех испытаниях\n",
    "\n",
    "k, n = 0, 100000\n",
    "cnt_exp = 4\n",
    "cnt_luck = 2\n",
    "a = np.random.randint(0, 2, n)\n",
    "b = np.random.randint(0, 2, n)\n",
    "c = np.random.randint(0, 2, n)\n",
    "d = np.random.randint(0, 2, n)\n",
    "x = a + b + c + d\n",
    "for i in range(0 , n):\n",
    "    if x[i] == cnt_luck:\n",
    "        k += 1\n",
    "print(k , n, k/n)"
   ]
  },
  {
   "cell_type": "code",
   "execution_count": 53,
   "metadata": {},
   "outputs": [],
   "source": [
    "# Функция вычисления количества сочетаний\n",
    "\n",
    "def combinations(cnt_exp, cnt_luck):\n",
    "    import math\n",
    "    return math.factorial(cnt_exp)/(math.factorial(cnt_luck)*math.factorial(cnt_exp - cnt_luck))"
   ]
  },
  {
   "cell_type": "code",
   "execution_count": 54,
   "metadata": {},
   "outputs": [
    {
     "data": {
      "text/plain": [
       "0.375"
      ]
     },
     "execution_count": 54,
     "metadata": {},
     "output_type": "execute_result"
    }
   ],
   "source": [
    "# Через формулу Бернулли получим следующий результат\n",
    "\n",
    "def get_prob_coin(cnt_exp, cnt_luck):\n",
    "    return combinations(cnt_exp, cnt_luck)*1/2**cnt_exp\n",
    "\n",
    "P_n_k = get_prob_coin(cnt_exp, cnt_luck)\n",
    "P_n_k"
   ]
  },
  {
   "cell_type": "code",
   "execution_count": 55,
   "metadata": {},
   "outputs": [],
   "source": [
    "# Вероятность, полученная методом Монте-Карло сходится к данному значению"
   ]
  },
  {
   "cell_type": "markdown",
   "metadata": {},
   "source": [
    "### Повторите расчеты биномиальных коэффициентов и вероятностей k успехов в последовательности из n независимых испытаний, взяв другие значения n и k."
   ]
  },
  {
   "cell_type": "code",
   "execution_count": 56,
   "metadata": {},
   "outputs": [
    {
     "name": "stdout",
     "output_type": "stream",
     "text": [
      "20359 100000 0.20359\n"
     ]
    }
   ],
   "source": [
    "# Модель Монте-Карло для последовательности независимых испытаний (подбрасывание монеты)\n",
    "# Проверим вероятность выпадения шести успехов на десяти испытаниях\n",
    "\n",
    "k, n = 0, 100000\n",
    "cnt_exp = 10\n",
    "cnt_luck = 6\n",
    "a = np.random.randint(0, 2, n)\n",
    "b = np.random.randint(0, 2, n)\n",
    "c = np.random.randint(0, 2, n)\n",
    "d = np.random.randint(0, 2, n)\n",
    "e = np.random.randint(0, 2, n)\n",
    "f = np.random.randint(0, 2, n)\n",
    "g = np.random.randint(0, 2, n)\n",
    "h = np.random.randint(0, 2, n)\n",
    "j = np.random.randint(0, 2, n)\n",
    "l = np.random.randint(0, 2, n)\n",
    "\n",
    "x = a + b + c + d + e + f + g + h + j + l\n",
    "for i in range(0 , n):\n",
    "    if x[i] == cnt_luck:\n",
    "        k += 1\n",
    "print(k , n, k/n)"
   ]
  },
  {
   "cell_type": "code",
   "execution_count": 57,
   "metadata": {},
   "outputs": [
    {
     "data": {
      "text/plain": [
       "0.205078125"
      ]
     },
     "execution_count": 57,
     "metadata": {},
     "output_type": "execute_result"
    }
   ],
   "source": [
    "# Через формулу Бернулли получим следующий результат\n",
    "\n",
    "P_n_k = get_prob_coin(cnt_exp, cnt_luck)\n",
    "P_n_k"
   ]
  },
  {
   "cell_type": "code",
   "execution_count": 58,
   "metadata": {},
   "outputs": [],
   "source": [
    "# Вероятность, полученная методом Монте-Карло сходится к данному значению"
   ]
  },
  {
   "cell_type": "markdown",
   "metadata": {},
   "source": [
    "### Из урока по комбинаторике повторите расчеты, сгенерировав возможные варианты перестановок для других значений n и k"
   ]
  },
  {
   "cell_type": "code",
   "execution_count": 59,
   "metadata": {},
   "outputs": [
    {
     "name": "stdout",
     "output_type": "stream",
     "text": [
      "012\n",
      "013\n",
      "014\n",
      "021\n",
      "023\n",
      "024\n",
      "031\n",
      "032\n",
      "034\n",
      "041\n",
      "042\n",
      "043\n",
      "102\n",
      "103\n",
      "104\n",
      "120\n",
      "123\n",
      "124\n",
      "130\n",
      "132\n",
      "134\n",
      "140\n",
      "142\n",
      "143\n",
      "201\n",
      "203\n",
      "204\n",
      "210\n",
      "213\n",
      "214\n",
      "230\n",
      "231\n",
      "234\n",
      "240\n",
      "241\n",
      "243\n",
      "301\n",
      "302\n",
      "304\n",
      "310\n",
      "312\n",
      "314\n",
      "320\n",
      "321\n",
      "324\n",
      "340\n",
      "341\n",
      "342\n",
      "401\n",
      "402\n",
      "403\n",
      "410\n",
      "412\n",
      "413\n",
      "420\n",
      "421\n",
      "423\n",
      "430\n",
      "431\n",
      "432\n"
     ]
    }
   ],
   "source": [
    "# Возможные размещения A_n_k (порядок важен)\n",
    "import itertools\n",
    "for p in itertools.permutations('01234', 3):\n",
    "    print(''.join(p))"
   ]
  },
  {
   "cell_type": "code",
   "execution_count": 60,
   "metadata": {
    "scrolled": true
   },
   "outputs": [
    {
     "name": "stdout",
     "output_type": "stream",
     "text": [
      "012\n",
      "013\n",
      "014\n",
      "023\n",
      "024\n",
      "034\n",
      "123\n",
      "124\n",
      "134\n",
      "234\n"
     ]
    }
   ],
   "source": [
    "# Возможные сочетания C_n_k (порядок не важен)\n",
    "\n",
    "for p in itertools.combinations('01234', 3):\n",
    "    print(''.join(p))"
   ]
  },
  {
   "cell_type": "code",
   "execution_count": 61,
   "metadata": {},
   "outputs": [
    {
     "name": "stdout",
     "output_type": "stream",
     "text": [
      "01234\n",
      "01243\n",
      "01324\n",
      "01342\n",
      "01423\n",
      "01432\n",
      "02134\n",
      "02143\n",
      "02314\n",
      "02341\n",
      "02413\n",
      "02431\n",
      "03124\n",
      "03142\n",
      "03214\n",
      "03241\n",
      "03412\n",
      "03421\n",
      "04123\n",
      "04132\n",
      "04213\n",
      "04231\n",
      "04312\n",
      "04321\n",
      "10234\n",
      "10243\n",
      "10324\n",
      "10342\n",
      "10423\n",
      "10432\n",
      "12034\n",
      "12043\n",
      "12304\n",
      "12340\n",
      "12403\n",
      "12430\n",
      "13024\n",
      "13042\n",
      "13204\n",
      "13240\n",
      "13402\n",
      "13420\n",
      "14023\n",
      "14032\n",
      "14203\n",
      "14230\n",
      "14302\n",
      "14320\n",
      "20134\n",
      "20143\n",
      "20314\n",
      "20341\n",
      "20413\n",
      "20431\n",
      "21034\n",
      "21043\n",
      "21304\n",
      "21340\n",
      "21403\n",
      "21430\n",
      "23014\n",
      "23041\n",
      "23104\n",
      "23140\n",
      "23401\n",
      "23410\n",
      "24013\n",
      "24031\n",
      "24103\n",
      "24130\n",
      "24301\n",
      "24310\n",
      "30124\n",
      "30142\n",
      "30214\n",
      "30241\n",
      "30412\n",
      "30421\n",
      "31024\n",
      "31042\n",
      "31204\n",
      "31240\n",
      "31402\n",
      "31420\n",
      "32014\n",
      "32041\n",
      "32104\n",
      "32140\n",
      "32401\n",
      "32410\n",
      "34012\n",
      "34021\n",
      "34102\n",
      "34120\n",
      "34201\n",
      "34210\n",
      "40123\n",
      "40132\n",
      "40213\n",
      "40231\n",
      "40312\n",
      "40321\n",
      "41023\n",
      "41032\n",
      "41203\n",
      "41230\n",
      "41302\n",
      "41320\n",
      "42013\n",
      "42031\n",
      "42103\n",
      "42130\n",
      "42301\n",
      "42310\n",
      "43012\n",
      "43021\n",
      "43102\n",
      "43120\n",
      "43201\n",
      "43210\n"
     ]
    }
   ],
   "source": [
    "# Возможные размещения A_n_n (перестановки)\n",
    "\n",
    "for p in itertools.permutations('01234', 5):\n",
    "    print(''.join(p))"
   ]
  },
  {
   "cell_type": "markdown",
   "metadata": {},
   "source": [
    "### Дополните код расчетом коэффициента корреляции x и y по формуле"
   ]
  },
  {
   "cell_type": "code",
   "execution_count": 62,
   "metadata": {},
   "outputs": [
    {
     "name": "stdout",
     "output_type": "stream",
     "text": [
      "0.7051233880672386 0.1504841108814641\n",
      "0.7051233880672377 0.15048411088146463\n"
     ]
    },
    {
     "name": "stderr",
     "output_type": "stream",
     "text": [
      "C:\\Anaconda3\\lib\\site-packages\\ipykernel_launcher.py:16: FutureWarning: `rcond` parameter will change to the default of machine precision times ``max(M, N)`` where M and N are the input matrix dimensions.\n",
      "To use the future default and silence this warning we advise to pass `rcond=None`, to keep using the old, explicitly pass `rcond=-1`.\n",
      "  app.launch_new_instance()\n"
     ]
    },
    {
     "data": {
      "image/png": "[encoded data removed]",
      "text/plain": [
       "<Figure size 432x288 with 1 Axes>"
      ]
     },
     "metadata": {
      "needs_background": "light"
     },
     "output_type": "display_data"
    }
   ],
   "source": [
    "n = 100\n",
    "r = 0.7\n",
    "x = np.random.rand(n)\n",
    "y = r*x + (1 - r)*np.random.rand(n)\n",
    "plt.plot(x, y, 'o')\n",
    "plt.xlabel('x')\n",
    "plt.ylabel('y')\n",
    "plt.grid(True)\n",
    "\n",
    "# Вычисление коэффициентов регрессии вручную (y = a*x + b)\n",
    "a = (np.sum(x)*np.sum(y) - n*np.sum(x*y))/(np.sum(x)*np.sum(x) - n*np.sum(x*x))\n",
    "b = (np.sum(y) - a*np.sum(x))/n\n",
    "\n",
    "# Вычисление коэффициентов регрессии встроенной функцией\n",
    "A = np.vstack([x, np.ones(len(x))]).T\n",
    "a1, b1 = np.linalg.lstsq(A, y)[0]\n",
    "print(a, b)\n",
    "print(a1, b1)\n",
    "plt.plot([0, 1], [b, a + b])\n",
    "plt.show()"
   ]
  },
  {
   "cell_type": "code",
   "execution_count": 63,
   "metadata": {},
   "outputs": [
    {
     "name": "stdout",
     "output_type": "stream",
     "text": [
      "[[1.         0.93521201]\n",
      " [0.93521201 1.        ]]\n"
     ]
    }
   ],
   "source": [
    "# Расчет коэффициента корреляции с использованием встроенной функции\n",
    "\n",
    "c = np.corrcoef(x, y)\n",
    "print(c)"
   ]
  },
  {
   "cell_type": "code",
   "execution_count": 64,
   "metadata": {},
   "outputs": [],
   "source": [
    "# Рассчет коэффициента корреляции по формуле"
   ]
  },
  {
   "cell_type": "code",
   "execution_count": 65,
   "metadata": {},
   "outputs": [],
   "source": [
    "x_m = x.mean()\n",
    "y_m = y.mean()"
   ]
  },
  {
   "cell_type": "code",
   "execution_count": 66,
   "metadata": {},
   "outputs": [
    {
     "data": {
      "text/plain": [
       "0.9352120101735222"
      ]
     },
     "execution_count": 66,
     "metadata": {},
     "output_type": "execute_result"
    }
   ],
   "source": [
    "R = (np.sum((x - x_m)*(y - y_m))/(np.sqrt((np.sum((x-x_m)*(x-x_m)))*(np.sum((y-y_m)*(y-y_m))))))\n",
    "R"
   ]
  },
  {
   "cell_type": "code",
   "execution_count": 67,
   "metadata": {},
   "outputs": [],
   "source": [
    "# Результаты сходятся"
   ]
  },
  {
   "cell_type": "code",
   "execution_count": null,
   "metadata": {},
   "outputs": [],
   "source": []
  }
 ],
 "metadata": {
  "kernelspec": {
   "display_name": "Python 3",
   "language": "python",
   "name": "python3"
  },
  "language_info": {
   "codemirror_mode": {
    "name": "ipython",
    "version": 3
   },
   "file_extension": ".py",
   "mimetype": "text/x-python",
   "name": "python",
   "nbconvert_exporter": "python",
   "pygments_lexer": "ipython3",
   "version": "3.7.3"
  }
 },
 "nbformat": 4,
 "nbformat_minor": 2
}
