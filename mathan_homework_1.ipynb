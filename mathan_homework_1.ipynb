{
 "cells": [
  {
   "cell_type": "markdown",
   "metadata": {},
   "source": [
    "# Тема “Множество”"
   ]
  },
  {
   "cell_type": "markdown",
   "metadata": {},
   "source": [
    "### Даны три множества a,b и с. Необходимо выполнить все изученные виды бинарных операций над всеми комбинациями "
   ]
  },
  {
   "cell_type": "code",
   "execution_count": 52,
   "metadata": {},
   "outputs": [],
   "source": [
    "a = {1, 2, 3}\n",
    "b = {1, 5}\n",
    "c = {3, 4, 5}"
   ]
  },
  {
   "cell_type": "code",
   "execution_count": 53,
   "metadata": {},
   "outputs": [],
   "source": [
    "# Пересечение"
   ]
  },
  {
   "cell_type": "code",
   "execution_count": 54,
   "metadata": {},
   "outputs": [
    {
     "data": {
      "text/plain": [
       "{1}"
      ]
     },
     "execution_count": 54,
     "metadata": {},
     "output_type": "execute_result"
    }
   ],
   "source": [
    "a & b"
   ]
  },
  {
   "cell_type": "code",
   "execution_count": 55,
   "metadata": {},
   "outputs": [
    {
     "data": {
      "text/plain": [
       "{3}"
      ]
     },
     "execution_count": 55,
     "metadata": {},
     "output_type": "execute_result"
    }
   ],
   "source": [
    "a & c"
   ]
  },
  {
   "cell_type": "code",
   "execution_count": 56,
   "metadata": {},
   "outputs": [
    {
     "data": {
      "text/plain": [
       "{5}"
      ]
     },
     "execution_count": 56,
     "metadata": {},
     "output_type": "execute_result"
    }
   ],
   "source": [
    "b & c"
   ]
  },
  {
   "cell_type": "code",
   "execution_count": 57,
   "metadata": {},
   "outputs": [],
   "source": [
    "# Объединение"
   ]
  },
  {
   "cell_type": "code",
   "execution_count": 58,
   "metadata": {},
   "outputs": [
    {
     "data": {
      "text/plain": [
       "{1, 2, 3, 5}"
      ]
     },
     "execution_count": 58,
     "metadata": {},
     "output_type": "execute_result"
    }
   ],
   "source": [
    "a | b"
   ]
  },
  {
   "cell_type": "code",
   "execution_count": 59,
   "metadata": {},
   "outputs": [
    {
     "data": {
      "text/plain": [
       "{1, 2, 3, 4, 5}"
      ]
     },
     "execution_count": 59,
     "metadata": {},
     "output_type": "execute_result"
    }
   ],
   "source": [
    "a | c"
   ]
  },
  {
   "cell_type": "code",
   "execution_count": 60,
   "metadata": {},
   "outputs": [
    {
     "data": {
      "text/plain": [
       "{1, 3, 4, 5}"
      ]
     },
     "execution_count": 60,
     "metadata": {},
     "output_type": "execute_result"
    }
   ],
   "source": [
    "b | c"
   ]
  },
  {
   "cell_type": "code",
   "execution_count": 61,
   "metadata": {},
   "outputs": [],
   "source": [
    "# Разность"
   ]
  },
  {
   "cell_type": "code",
   "execution_count": 62,
   "metadata": {},
   "outputs": [
    {
     "data": {
      "text/plain": [
       "{2, 3}"
      ]
     },
     "execution_count": 62,
     "metadata": {},
     "output_type": "execute_result"
    }
   ],
   "source": [
    "a - b "
   ]
  },
  {
   "cell_type": "code",
   "execution_count": 67,
   "metadata": {},
   "outputs": [
    {
     "data": {
      "text/plain": [
       "{1, 2}"
      ]
     },
     "execution_count": 67,
     "metadata": {},
     "output_type": "execute_result"
    }
   ],
   "source": [
    "a - c"
   ]
  },
  {
   "cell_type": "code",
   "execution_count": 68,
   "metadata": {},
   "outputs": [
    {
     "data": {
      "text/plain": [
       "{1}"
      ]
     },
     "execution_count": 68,
     "metadata": {},
     "output_type": "execute_result"
    }
   ],
   "source": [
    "b - c"
   ]
  },
  {
   "cell_type": "code",
   "execution_count": 64,
   "metadata": {},
   "outputs": [],
   "source": [
    "# Симметрическая разность"
   ]
  },
  {
   "cell_type": "code",
   "execution_count": 69,
   "metadata": {},
   "outputs": [
    {
     "data": {
      "text/plain": [
       "{2, 3, 5}"
      ]
     },
     "execution_count": 69,
     "metadata": {},
     "output_type": "execute_result"
    }
   ],
   "source": [
    "a ^ b"
   ]
  },
  {
   "cell_type": "code",
   "execution_count": 70,
   "metadata": {},
   "outputs": [
    {
     "data": {
      "text/plain": [
       "{1, 2, 4, 5}"
      ]
     },
     "execution_count": 70,
     "metadata": {},
     "output_type": "execute_result"
    }
   ],
   "source": [
    "a ^ c"
   ]
  },
  {
   "cell_type": "code",
   "execution_count": 71,
   "metadata": {},
   "outputs": [
    {
     "data": {
      "text/plain": [
       "{1, 3, 4}"
      ]
     },
     "execution_count": 71,
     "metadata": {},
     "output_type": "execute_result"
    }
   ],
   "source": [
    "b ^ c"
   ]
  },
  {
   "cell_type": "code",
   "execution_count": null,
   "metadata": {},
   "outputs": [],
   "source": [
    "# Декартово произведение"
   ]
  },
  {
   "cell_type": "code",
   "execution_count": 42,
   "metadata": {},
   "outputs": [],
   "source": [
    "from itertools import product"
   ]
  },
  {
   "cell_type": "code",
   "execution_count": 72,
   "metadata": {},
   "outputs": [
    {
     "name": "stdout",
     "output_type": "stream",
     "text": [
      "(1, 1)\n",
      "(1, 5)\n",
      "(2, 1)\n",
      "(2, 5)\n",
      "(3, 1)\n",
      "(3, 5)\n"
     ]
    }
   ],
   "source": [
    "for i in product(a, b):\n",
    "    print(i)"
   ]
  },
  {
   "cell_type": "code",
   "execution_count": 73,
   "metadata": {},
   "outputs": [
    {
     "name": "stdout",
     "output_type": "stream",
     "text": [
      "(1, 3)\n",
      "(1, 4)\n",
      "(1, 5)\n",
      "(2, 3)\n",
      "(2, 4)\n",
      "(2, 5)\n",
      "(3, 3)\n",
      "(3, 4)\n",
      "(3, 5)\n"
     ]
    }
   ],
   "source": [
    "for i in product(a, c):\n",
    "    print(i)"
   ]
  },
  {
   "cell_type": "code",
   "execution_count": 74,
   "metadata": {},
   "outputs": [
    {
     "name": "stdout",
     "output_type": "stream",
     "text": [
      "(1, 3)\n",
      "(1, 4)\n",
      "(1, 5)\n",
      "(5, 3)\n",
      "(5, 4)\n",
      "(5, 5)\n"
     ]
    }
   ],
   "source": [
    "for i in product(b, c):\n",
    "    print(i)"
   ]
  },
  {
   "cell_type": "markdown",
   "metadata": {},
   "source": [
    "# Тема 3 “Последовательность”"
   ]
  },
  {
   "cell_type": "markdown",
   "metadata": {},
   "source": [
    "### Даны 4 последовательности. Необходимо:\n",
    "### исследовать их на монотонность; \n",
    "### исследовать на ограниченность;\n",
    "### найти пятый по счету член."
   ]
  },
  {
   "cell_type": "code",
   "execution_count": 92,
   "metadata": {},
   "outputs": [],
   "source": [
    "import matplotlib.pyplot as plt\n",
    "import numpy as np"
   ]
  },
  {
   "cell_type": "markdown",
   "metadata": {},
   "source": [
    "### 2^n - n"
   ]
  },
  {
   "cell_type": "code",
   "execution_count": 80,
   "metadata": {},
   "outputs": [],
   "source": [
    "array = []\n",
    "for i in range(1, 20):\n",
    "    array.append(2**i - i)"
   ]
  },
  {
   "cell_type": "code",
   "execution_count": 81,
   "metadata": {},
   "outputs": [
    {
     "data": {
      "text/plain": [
       "[1,\n",
       " 2,\n",
       " 5,\n",
       " 12,\n",
       " 27,\n",
       " 58,\n",
       " 121,\n",
       " 248,\n",
       " 503,\n",
       " 1014,\n",
       " 2037,\n",
       " 4084,\n",
       " 8179,\n",
       " 16370,\n",
       " 32753,\n",
       " 65520,\n",
       " 131055,\n",
       " 262126,\n",
       " 524269]"
      ]
     },
     "execution_count": 81,
     "metadata": {},
     "output_type": "execute_result"
    }
   ],
   "source": [
    "array"
   ]
  },
  {
   "cell_type": "code",
   "execution_count": null,
   "metadata": {},
   "outputs": [],
   "source": [
    "# Последовательность монотонна\n",
    "# Ограничена снизу (1), неограничена сверху\n",
    "# Пятый по счету член:  27"
   ]
  },
  {
   "cell_type": "markdown",
   "metadata": {},
   "source": [
    "### 1/(1-n)"
   ]
  },
  {
   "cell_type": "code",
   "execution_count": 87,
   "metadata": {},
   "outputs": [],
   "source": [
    "array = []\n",
    "for i in range(2, 50):\n",
    "    array.append(1/(1 - i))"
   ]
  },
  {
   "cell_type": "code",
   "execution_count": 88,
   "metadata": {},
   "outputs": [
    {
     "data": {
      "text/plain": [
       "[-1.0,\n",
       " -0.5,\n",
       " -0.3333333333333333,\n",
       " -0.25,\n",
       " -0.2,\n",
       " -0.16666666666666666,\n",
       " -0.14285714285714285,\n",
       " -0.125,\n",
       " -0.1111111111111111,\n",
       " -0.1,\n",
       " -0.09090909090909091,\n",
       " -0.08333333333333333,\n",
       " -0.07692307692307693,\n",
       " -0.07142857142857142,\n",
       " -0.06666666666666667,\n",
       " -0.0625,\n",
       " -0.058823529411764705,\n",
       " -0.05555555555555555,\n",
       " -0.05263157894736842,\n",
       " -0.05,\n",
       " -0.047619047619047616,\n",
       " -0.045454545454545456,\n",
       " -0.043478260869565216,\n",
       " -0.041666666666666664,\n",
       " -0.04,\n",
       " -0.038461538461538464,\n",
       " -0.037037037037037035,\n",
       " -0.03571428571428571,\n",
       " -0.034482758620689655,\n",
       " -0.03333333333333333,\n",
       " -0.03225806451612903,\n",
       " -0.03125,\n",
       " -0.030303030303030304,\n",
       " -0.029411764705882353,\n",
       " -0.02857142857142857,\n",
       " -0.027777777777777776,\n",
       " -0.02702702702702703,\n",
       " -0.02631578947368421,\n",
       " -0.02564102564102564,\n",
       " -0.025,\n",
       " -0.024390243902439025,\n",
       " -0.023809523809523808,\n",
       " -0.023255813953488372,\n",
       " -0.022727272727272728,\n",
       " -0.022222222222222223,\n",
       " -0.021739130434782608,\n",
       " -0.02127659574468085,\n",
       " -0.020833333333333332]"
      ]
     },
     "execution_count": 88,
     "metadata": {},
     "output_type": "execute_result"
    }
   ],
   "source": [
    "array"
   ]
  },
  {
   "cell_type": "code",
   "execution_count": null,
   "metadata": {},
   "outputs": [],
   "source": [
    "# Последовательность монотонна\n",
    "# Ограничена снизу (-1), ограничена сверху (0)\n",
    "# Пятый по счету член:  -0.2"
   ]
  },
  {
   "cell_type": "markdown",
   "metadata": {},
   "source": [
    "### (-1)^n + sqrt(2n)"
   ]
  },
  {
   "cell_type": "code",
   "execution_count": 107,
   "metadata": {},
   "outputs": [],
   "source": [
    "array = []\n",
    "for i in range(1, 100):\n",
    "    array.append((-1)**i + np.sqrt(2*i))"
   ]
  },
  {
   "cell_type": "code",
   "execution_count": 108,
   "metadata": {},
   "outputs": [
    {
     "data": {
      "text/plain": [
       "[0.41421356237309515,\n",
       " 3.0,\n",
       " 1.4494897427831779,\n",
       " 3.8284271247461903,\n",
       " 2.1622776601683795,\n",
       " 4.464101615137754,\n",
       " 2.7416573867739413,\n",
       " 5.0,\n",
       " 3.2426406871192848,\n",
       " 5.47213595499958,\n",
       " 3.6904157598234297,\n",
       " 5.898979485566356,\n",
       " 4.0990195135927845,\n",
       " 6.291502622129181,\n",
       " 4.477225575051661,\n",
       " 6.656854249492381,\n",
       " 4.830951894845301,\n",
       " 7.0,\n",
       " 5.164414002968976,\n",
       " 7.324555320336759,\n",
       " 5.48074069840786,\n",
       " 7.6332495807108,\n",
       " 5.782329983125268,\n",
       " 7.928203230275509,\n",
       " 6.0710678118654755,\n",
       " 8.21110255092798,\n",
       " 6.3484692283495345,\n",
       " 8.483314773547882,\n",
       " 6.615773105863909,\n",
       " 8.745966692414834,\n",
       " 6.874007874011811,\n",
       " 9.0,\n",
       " 7.124038404635961,\n",
       " 9.246211251235321,\n",
       " 7.366600265340756,\n",
       " 9.48528137423857,\n",
       " 7.602325267042627,\n",
       " 9.717797887081348,\n",
       " 7.831760866327848,\n",
       " 9.94427190999916,\n",
       " 8.055385138137417,\n",
       " 10.16515138991168,\n",
       " 8.273618495495704,\n",
       " 10.38083151964686,\n",
       " 8.486832980505138,\n",
       " 10.591663046625438,\n",
       " 8.695359714832659,\n",
       " 10.797958971132712,\n",
       " 8.899494936611665,\n",
       " 11.0,\n",
       " 9.099504938362077,\n",
       " 11.198039027185569,\n",
       " 9.295630140987,\n",
       " 11.392304845413264,\n",
       " 9.488088481701515,\n",
       " 11.583005244258363,\n",
       " 9.677078252031311,\n",
       " 11.770329614269007,\n",
       " 9.862780491200215,\n",
       " 11.954451150103322,\n",
       " 10.045361017187261,\n",
       " 12.135528725660043,\n",
       " 10.224972160321824,\n",
       " 12.313708498984761,\n",
       " 10.40175425099138,\n",
       " 12.489125293076057,\n",
       " 10.575836902790225,\n",
       " 12.661903789690601,\n",
       " 10.74734012447073,\n",
       " 12.832159566199232,\n",
       " 10.916375287812984,\n",
       " 13.0,\n",
       " 11.083045973594572,\n",
       " 13.165525060596439,\n",
       " 11.24744871391589,\n",
       " 13.328828005937952,\n",
       " 11.409673645990857,\n",
       " 13.489995996796797,\n",
       " 11.569805089976535,\n",
       " 13.649110640673518,\n",
       " 11.727922061357855,\n",
       " 13.806248474865697,\n",
       " 11.884098726725126,\n",
       " 13.96148139681572,\n",
       " 12.038404810405298,\n",
       " 14.114877048604,\n",
       " 12.19090595827292,\n",
       " 14.2664991614216,\n",
       " 12.341664064126334,\n",
       " 14.416407864998739,\n",
       " 12.490737563232042,\n",
       " 14.564659966250536,\n",
       " 12.638181696985855,\n",
       " 14.711309200802088,\n",
       " 12.784048752090222,\n",
       " 14.856406460551018,\n",
       " 12.92838827718412,\n",
       " 15.0,\n",
       " 13.071247279470288]"
      ]
     },
     "execution_count": 108,
     "metadata": {},
     "output_type": "execute_result"
    }
   ],
   "source": [
    "array"
   ]
  },
  {
   "cell_type": "code",
   "execution_count": 109,
   "metadata": {},
   "outputs": [],
   "source": [
    "# Последовательность немонотонна\n",
    "# Ограничена снизу (0.414), неограничена сверху\n",
    "# Пятый по счету член:  2.1622"
   ]
  },
  {
   "cell_type": "markdown",
   "metadata": {},
   "source": [
    "### (-1)^2n + 1/n^2"
   ]
  },
  {
   "cell_type": "code",
   "execution_count": 112,
   "metadata": {},
   "outputs": [],
   "source": [
    "array = []\n",
    "for i in range(1, 100):\n",
    "    array.append((-1)**(2*i) + 1/(i**2))"
   ]
  },
  {
   "cell_type": "code",
   "execution_count": 113,
   "metadata": {},
   "outputs": [
    {
     "data": {
      "text/plain": [
       "[2.0,\n",
       " 1.25,\n",
       " 1.1111111111111112,\n",
       " 1.0625,\n",
       " 1.04,\n",
       " 1.0277777777777777,\n",
       " 1.0204081632653061,\n",
       " 1.015625,\n",
       " 1.0123456790123457,\n",
       " 1.01,\n",
       " 1.0082644628099173,\n",
       " 1.0069444444444444,\n",
       " 1.0059171597633136,\n",
       " 1.0051020408163265,\n",
       " 1.0044444444444445,\n",
       " 1.00390625,\n",
       " 1.0034602076124568,\n",
       " 1.0030864197530864,\n",
       " 1.002770083102493,\n",
       " 1.0025,\n",
       " 1.002267573696145,\n",
       " 1.0020661157024793,\n",
       " 1.001890359168242,\n",
       " 1.0017361111111112,\n",
       " 1.0016,\n",
       " 1.0014792899408285,\n",
       " 1.0013717421124828,\n",
       " 1.0012755102040816,\n",
       " 1.0011890606420928,\n",
       " 1.001111111111111,\n",
       " 1.0010405827263267,\n",
       " 1.0009765625,\n",
       " 1.0009182736455464,\n",
       " 1.0008650519031141,\n",
       " 1.0008163265306123,\n",
       " 1.0007716049382716,\n",
       " 1.0007304601899196,\n",
       " 1.0006925207756232,\n",
       " 1.0006574621959237,\n",
       " 1.000625,\n",
       " 1.0005948839976204,\n",
       " 1.0005668934240364,\n",
       " 1.0005408328826393,\n",
       " 1.00051652892562,\n",
       " 1.0004938271604937,\n",
       " 1.0004725897920606,\n",
       " 1.0004526935264826,\n",
       " 1.0004340277777777,\n",
       " 1.0004164931278634,\n",
       " 1.0004,\n",
       " 1.000384467512495,\n",
       " 1.0003698224852071,\n",
       " 1.0003559985760058,\n",
       " 1.0003429355281208,\n",
       " 1.0003305785123966,\n",
       " 1.0003188775510203,\n",
       " 1.0003077870113881,\n",
       " 1.000297265160523,\n",
       " 1.0002872737719046,\n",
       " 1.0002777777777778,\n",
       " 1.000268744961032,\n",
       " 1.0002601456815816,\n",
       " 1.000251952632905,\n",
       " 1.000244140625,\n",
       " 1.0002366863905325,\n",
       " 1.0002295684113867,\n",
       " 1.0002227667631989,\n",
       " 1.0002162629757785,\n",
       " 1.0002100399075824,\n",
       " 1.000204081632653,\n",
       " 1.0001983733386233,\n",
       " 1.0001929012345678,\n",
       " 1.0001876524676299,\n",
       " 1.00018261504748,\n",
       " 1.0001777777777778,\n",
       " 1.0001731301939059,\n",
       " 1.0001686625063249,\n",
       " 1.000164365548981,\n",
       " 1.0001602307322544,\n",
       " 1.00015625,\n",
       " 1.000152415790276,\n",
       " 1.000148720999405,\n",
       " 1.0001451589490493,\n",
       " 1.000141723356009,\n",
       " 1.0001384083044982,\n",
       " 1.0001352082206598,\n",
       " 1.0001321178491214,\n",
       " 1.000129132231405,\n",
       " 1.0001262466860246,\n",
       " 1.0001234567901234,\n",
       " 1.0001207583625167,\n",
       " 1.0001181474480152,\n",
       " 1.0001156203029251,\n",
       " 1.0001131733816206,\n",
       " 1.0001108033240997,\n",
       " 1.0001085069444444,\n",
       " 1.0001062812201085,\n",
       " 1.0001041232819659,\n",
       " 1.0001020304050607]"
      ]
     },
     "execution_count": 113,
     "metadata": {},
     "output_type": "execute_result"
    }
   ],
   "source": [
    "array"
   ]
  },
  {
   "cell_type": "code",
   "execution_count": 114,
   "metadata": {},
   "outputs": [],
   "source": [
    "# Последовательность монотонна\n",
    "# Ограничена снизу (1), ограничена сверху (2)\n",
    "# Пятый по счету член:  1.04"
   ]
  },
  {
   "cell_type": "markdown",
   "metadata": {},
   "source": [
    "# Найти 12-й член заданной неявно последовательности"
   ]
  },
  {
   "cell_type": "markdown",
   "metadata": {},
   "source": [
    "### a(1) = 128, a(n+1) - a(n) = 6"
   ]
  },
  {
   "cell_type": "code",
   "execution_count": 119,
   "metadata": {},
   "outputs": [],
   "source": [
    "array = []\n",
    "a = 128\n",
    "for i in range(12):    \n",
    "    array.append(a)\n",
    "    a += 6"
   ]
  },
  {
   "cell_type": "code",
   "execution_count": 120,
   "metadata": {},
   "outputs": [
    {
     "data": {
      "text/plain": [
       "[128, 134, 140, 146, 152, 158, 164, 170, 176, 182, 188, 194]"
      ]
     },
     "execution_count": 120,
     "metadata": {},
     "output_type": "execute_result"
    }
   ],
   "source": [
    "array"
   ]
  },
  {
   "cell_type": "code",
   "execution_count": 121,
   "metadata": {},
   "outputs": [],
   "source": [
    "# Ответ: 194"
   ]
  }
 ],
 "metadata": {
  "kernelspec": {
   "display_name": "Python 3",
   "language": "python",
   "name": "python3"
  },
  "language_info": {
   "codemirror_mode": {
    "name": "ipython",
    "version": 3
   },
   "file_extension": ".py",
   "mimetype": "text/x-python",
   "name": "python",
   "nbconvert_exporter": "python",
   "pygments_lexer": "ipython3",
   "version": "3.7.3"
  }
 },
 "nbformat": 4,
 "nbformat_minor": 2
}
